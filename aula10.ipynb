{
 "cells": [
  {
   "cell_type": "code",
   "execution_count": 5,
   "metadata": {},
   "outputs": [
    {
     "name": "stdout",
     "output_type": "stream",
     "text": [
      "DIAS SAID\n",
      "Não é um palindromo!\n"
     ]
    }
   ],
   "source": [
    "frase = str(input('Digite uma palavra ou frase: ')).strip().upper()\n",
    "\n",
    "palavras = frase.split()\n",
    "caractere = ''.join(palavras)\n",
    "\n",
    "fraseinvertida = ''\n",
    "\n",
    "for i in range(len(caractere) -1, -1, -1):\n",
    "    fraseinvertida += caractere[i]\n",
    "\n",
    "print(caractere, fraseinvertida)\n",
    "\n",
    "if fraseinvertida== caractere:\n",
    "        print('É um palindromo!')\n",
    "else:\n",
    "        print('Não é um palindromo!')"
   ]
  },
  {
   "cell_type": "code",
   "execution_count": 3,
   "metadata": {},
   "outputs": [
    {
     "name": "stdout",
     "output_type": "stream",
     "text": [
      "1*334\n"
     ]
    }
   ],
   "source": [
    "cpf = input('Digite seu CPF: ').replace('-','').replace('.','*')\n",
    "print(f'cpf:{cpf[:3]}.{cpf[3:6]}.{cpf[6:9]}.{cpf[9:]}')"
   ]
  }
 ],
 "metadata": {
  "kernelspec": {
   "display_name": "Python 3",
   "language": "python",
   "name": "python3"
  },
  "language_info": {
   "codemirror_mode": {
    "name": "ipython",
    "version": 3
   },
   "file_extension": ".py",
   "mimetype": "text/x-python",
   "name": "python",
   "nbconvert_exporter": "python",
   "pygments_lexer": "ipython3",
   "version": "3.12.5"
  }
 },
 "nbformat": 4,
 "nbformat_minor": 2
}
